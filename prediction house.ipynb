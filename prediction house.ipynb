{
 "cells": [
  {
   "cell_type": "code",
   "execution_count": 31,
   "metadata": {
    "scrolled": false
   },
   "outputs": [],
   "source": [
    "import pandas as pd\n",
    "import numpy as np\n",
    "import matplotlib.pyplot as plt\n",
    "from scipy import stats"
   ]
  },
  {
   "cell_type": "code",
   "execution_count": 30,
   "metadata": {
    "scrolled": true
   },
   "outputs": [
    {
     "name": "stdout",
     "output_type": "stream",
     "text": [
      "<bound method NDFrame.head of      loyer  surface\n",
      "0     1330       37\n",
      "1     1400       32\n",
      "2      904       26\n",
      "3      955       30\n",
      "4     2545       70\n",
      "..     ...      ...\n",
      "540   1490       48\n",
      "541   2020       58\n",
      "542   2050       70\n",
      "543   1220       42\n",
      "544   1610       44\n",
      "\n",
      "[545 rows x 2 columns]>\n"
     ]
    }
   ],
   "source": [
    "data = pd.read_csv('house.csv')\n",
    "print(data.head)\n",
    "\n",
    "class Regression:\n",
    "    def __init__(self, coef):\n",
    "        self.coef = coef\n",
    "            \n",
    "    def train(self, X, y):\n",
    "        X = np.matrix([np.ones(X.shape), X]).T\n",
    "        w = np.linalg.inv(X.T.dot(X)).dot(X.T).dot(y)"
   ]
  },
  {
   "cell_type": "code",
   "execution_count": 26,
   "metadata": {},
   "outputs": [],
   "source": [
    "#selection de la première colonne du dataset (loyer)\n",
    "Y = data.iloc[0:len(data),0]\n",
    "#selection de deuxième colonnes du dataset (surface)\n",
    "X = data.iloc[0:len(data),1] "
   ]
  },
  {
   "cell_type": "code",
   "execution_count": 66,
   "metadata": {
    "scrolled": false
   },
   "outputs": [
    {
     "data": {
      "image/png": "[encoded data removed]",
      "text/plain": [
       "<Figure size 432x288 with 1 Axes>"
      ]
     },
     "metadata": {
      "needs_background": "light"
     },
     "output_type": "display_data"
    }
   ],
   "source": [
    "plt.axes().grid()\n",
    "plt.scatter(Y,X)\n",
    "plt.show()"
   ]
  },
  {
   "cell_type": "code",
   "execution_count": 93,
   "metadata": {},
   "outputs": [
    {
     "name": "stdout",
     "output_type": "stream",
     "text": [
      "LinregressResult(slope=0.020065323508858916, intercept=16.93590802535344, rvalue=0.9066971194656672, pvalue=9.993018001247675e-206, stderr=0.0004005644439254286)\n"
     ]
    },
    {
     "data": {
      "text/plain": [
       "<matplotlib.collections.PathCollection at 0x7feee43252d0>"
      ]
     },
     "execution_count": 93,
     "metadata": {},
     "output_type": "execute_result"
    },
    {
     "data": {
      "image/png": "[encoded data removed]",
      "text/plain": [
       "<Figure size 432x288 with 1 Axes>"
      ]
     },
     "metadata": {
      "needs_background": "light"
     },
     "output_type": "display_data"
    }
   ],
   "source": [
    "#linregress() renvoie plusieurs variables de retour\n",
    "#particulierement au slope et intercept\n",
    "slope, intercept, r_value, p_value, std_err = stats.linregress(Y, X)\n",
    "\n",
    "print(stats.linregress(Y, X))\n",
    "\n",
    "def predict(y):\n",
    "    #print(y)\n",
    "    return slope * y + intercept\n",
    "\n",
    "plt.axes().grid()\n",
    "plt.plot(Y, predict(Y), c='r')\n",
    "plt.scatter(Y, X)"
   ]
  },
  {
   "cell_type": "code",
   "execution_count": 92,
   "metadata": {},
   "outputs": [
    {
     "name": "stdout",
     "output_type": "stream",
     "text": [
      "118.57142150098295\n"
     ]
    }
   ],
   "source": [
    "print(predict(1))"
   ]
  }
 ],
 "metadata": {
  "kernelspec": {
   "display_name": "Python 3",
   "language": "python",
   "name": "python3"
  },
  "language_info": {
   "codemirror_mode": {
    "name": "ipython",
    "version": 3
   },
   "file_extension": ".py",
   "mimetype": "text/x-python",
   "name": "python",
   "nbconvert_exporter": "python",
   "pygments_lexer": "ipython3",
   "version": "3.7.4"
  }
 },
 "nbformat": 4,
 "nbformat_minor": 2
}
